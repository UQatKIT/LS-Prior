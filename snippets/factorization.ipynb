{
 "cells": [
  {
   "cell_type": "code",
   "execution_count": 1,
   "id": "9331914d",
   "metadata": {},
   "outputs": [],
   "source": [
    "import cffi\n",
    "import numpy as np\n",
    "import ufl\n",
    "from dolfinx import fem, jit, mesh\n",
    "from dolfinx.fem import petsc\n",
    "from mpi4py import MPI\n",
    "from petsc4py import PETSc"
   ]
  },
  {
   "cell_type": "code",
   "execution_count": 2,
   "id": "1d16b1b6",
   "metadata": {},
   "outputs": [],
   "source": [
    "delta = 1.0\n",
    "gamma = 0.5\n",
    "nx, ny = 2, 2"
   ]
  },
  {
   "cell_type": "code",
   "execution_count": 3,
   "id": "8ad943bf",
   "metadata": {},
   "outputs": [],
   "source": [
    "domain = mesh.create_rectangle(\n",
    "    MPI.COMM_WORLD,\n",
    "    [np.array([0, 0]), np.array([1, 1])],\n",
    "    [nx, ny],\n",
    "    mesh.CellType.triangle,\n",
    ")"
   ]
  },
  {
   "cell_type": "code",
   "execution_count": 4,
   "id": "68c770ad",
   "metadata": {},
   "outputs": [],
   "source": [
    "function_space = fem.functionspace(domain, (\"Lagrange\", 1))\n",
    "trial_function = ufl.TrialFunction(function_space)\n",
    "test_function = ufl.TestFunction(function_space)\n",
    "\n",
    "mass_matrix_term = ufl.inner(trial_function, test_function) * ufl.dx\n",
    "stiffness_matrix_term = ufl.inner(ufl.grad(trial_function), ufl.grad(test_function)) * ufl.dx\n",
    "spde_matrix_term = delta * mass_matrix_term + gamma * stiffness_matrix_term\n",
    "\n",
    "mass_matrix = petsc.assemble_matrix(fem.form(mass_matrix_term))\n",
    "stiffness_matrix = petsc.assemble_matrix(fem.form(stiffness_matrix_term))\n",
    "mass_matrix.assemble()\n",
    "stiffness_matrix.assemble()"
   ]
  },
  {
   "cell_type": "code",
   "execution_count": 5,
   "id": "0b1b7503",
   "metadata": {},
   "outputs": [],
   "source": [
    "dense_mass_matrix_automatic = mass_matrix.convert(\"dense\")\n",
    "dense_mass_array_automatic = dense_mass_matrix_automatic.getDenseArray()"
   ]
  },
  {
   "cell_type": "code",
   "execution_count": 6,
   "id": "b2d991da",
   "metadata": {},
   "outputs": [],
   "source": [
    "local_vertex_coordinates = domain.geometry.x\n",
    "local_cell_vertex_indices = domain.geometry.dofmap\n",
    "dof_map = function_space.dofmap\n",
    "pproc_dof_distribution_map = dof_map.index_map\n",
    "pproc_cell_distribution_map = domain.topology.index_map(domain.topology.dim)\n",
    "\n",
    "num_local_cells = pproc_cell_distribution_map.size_local\n",
    "num_global_cells = pproc_cell_distribution_map.size_global\n",
    "num_cell_dofs = dof_map.dof_layout.num_dofs\n",
    "num_global_dofs = pproc_dof_distribution_map.size_global"
   ]
  },
  {
   "cell_type": "code",
   "execution_count": 7,
   "id": "71d575b1",
   "metadata": {},
   "outputs": [],
   "source": [
    "mass_matrix_compiled, *_ = jit.ffcx_jit(\n",
    "    domain.comm,\n",
    "    mass_matrix_term,\n",
    "    form_compiler_options={\"scalar_type\": PETSc.ScalarType},\n",
    ")\n",
    "compiled_kernel = getattr(\n",
    "    mass_matrix_compiled.form_integrals[0],\n",
    "    f\"tabulate_tensor_{np.dtype(PETSc.ScalarType).name}\",\n",
    ")\n",
    "\n",
    "ffi = cffi.FFI()"
   ]
  },
  {
   "cell_type": "code",
   "execution_count": 9,
   "id": "e2e116cd",
   "metadata": {},
   "outputs": [
    {
     "data": {
      "text/plain": [
       "<petsc4py.PETSc.Mat at 0x7f96b00d5760>"
      ]
     },
     "execution_count": 9,
     "metadata": {},
     "output_type": "execute_result"
    }
   ],
   "source": [
    "block_diagonal_matrix = PETSc.Mat().createAIJ(\n",
    "    [num_global_cells * num_cell_dofs, num_global_cells * num_cell_dofs], comm=domain.comm\n",
    ")\n",
    "block_diagonal_matrix.setPreallocationNNZ(num_cell_dofs)\n",
    "block_diagonal_matrix.setUp()\n",
    "\n",
    "local_global_dof_matrix = PETSc.Mat().createAIJ(\n",
    "    [num_global_cells * num_cell_dofs, num_global_dofs], comm=domain.comm\n",
    ")\n",
    "local_global_dof_matrix.setPreallocationNNZ(1)\n",
    "local_global_dof_matrix.setUp()"
   ]
  },
  {
   "cell_type": "code",
   "execution_count": 10,
   "id": "b834dab4",
   "metadata": {},
   "outputs": [],
   "source": [
    "local_cell_inds = np.arange(num_local_cells, dtype=np.int64)\n",
    "global_cell_inds = pproc_cell_distribution_map.local_to_global(local_cell_inds)\n",
    "\n",
    "for local_ind, global_ind in zip(local_cell_inds, global_cell_inds, strict=True):\n",
    "    local_cell_dofs = dof_map.cell_dofs(local_ind)\n",
    "    global_cell_dofs = pproc_dof_distribution_map.local_to_global(local_cell_dofs).astype(\n",
    "        PETSc.IntType\n",
    "    )\n",
    "    cell_vertex_inds = local_cell_vertex_indices[local_ind]\n",
    "    cell_vertex_coordinates = local_vertex_coordinates[cell_vertex_inds]\n",
    "    cell_matrix = np.zeros((num_cell_dofs, num_cell_dofs), dtype=PETSc.ScalarType)\n",
    "\n",
    "    compiled_kernel(\n",
    "        ffi.from_buffer(cell_matrix),  # A - output matrix\n",
    "        ffi.NULL,  # w - coefficient values (none for this form)\n",
    "        ffi.NULL,  # c - constants (none for this form)\n",
    "        ffi.from_buffer(cell_vertex_coordinates),  # coordinate_dofs\n",
    "        ffi.NULL,  # entity_local_index (cell integral)\n",
    "        ffi.NULL,  # cell_orientation\n",
    "    )\n",
    "    cell_matrix = np.linalg.cholesky(cell_matrix)\n",
    "\n",
    "    block_diag_matrix_inds = np.arange(\n",
    "        global_ind * num_cell_dofs, (global_ind + 1) * num_cell_dofs, dtype=PETSc.IntType\n",
    "    )\n",
    "    block_diagonal_matrix.setValues(\n",
    "        block_diag_matrix_inds,\n",
    "        block_diag_matrix_inds,\n",
    "        cell_matrix,\n",
    "        addv=PETSc.InsertMode.INSERT_VALUES,\n",
    "    )\n",
    "\n",
    "    local_global_map_rows = block_diag_matrix_inds\n",
    "    local_global_map_cols = global_cell_dofs\n",
    "    local_global_dof_values = np.ones((num_cell_dofs,), dtype=PETSc.ScalarType)\n",
    "\n",
    "    for row_ind, col_ind, value in zip(\n",
    "        local_global_map_rows, local_global_map_cols, local_global_dof_values, strict=True\n",
    "    ):\n",
    "        local_global_dof_matrix.setValues(\n",
    "            row_ind,\n",
    "            col_ind,\n",
    "            value,\n",
    "            addv=PETSc.InsertMode.INSERT_VALUES,\n",
    "        )"
   ]
  },
  {
   "cell_type": "code",
   "execution_count": 11,
   "id": "5ea89bc5",
   "metadata": {},
   "outputs": [
    {
     "data": {
      "text/plain": [
       "True"
      ]
     },
     "execution_count": 11,
     "metadata": {},
     "output_type": "execute_result"
    }
   ],
   "source": [
    "block_diagonal_matrix.assemble()\n",
    "local_global_dof_matrix.assemble()\n",
    "local_global_dof_matrix_transposed = local_global_dof_matrix.duplicate(copy=True)\n",
    "local_global_dof_matrix_transposed.transpose()\n",
    "\n",
    "mass_matrix_factor = local_global_dof_matrix_transposed.matMult(block_diagonal_matrix)\n",
    "mass_matrix_factor_transposed = mass_matrix_factor.duplicate(copy=True)\n",
    "mass_matrix_factor_transposed.transpose()\n",
    "\n",
    "mass_matrix = mass_matrix_factor.matMult(mass_matrix_factor_transposed)\n",
    "mass_matrix.assemble()\n",
    "np.allclose(mass_matrix.getValues(range(9), range(9)), dense_mass_array_automatic)"
   ]
  }
 ],
 "metadata": {
  "kernelspec": {
   "display_name": "all",
   "language": "python",
   "name": "python3"
  },
  "language_info": {
   "codemirror_mode": {
    "name": "ipython",
    "version": 3
   },
   "file_extension": ".py",
   "mimetype": "text/x-python",
   "name": "python",
   "nbconvert_exporter": "python",
   "pygments_lexer": "ipython3",
   "version": "3.13.5"
  }
 },
 "nbformat": 4,
 "nbformat_minor": 5
}
