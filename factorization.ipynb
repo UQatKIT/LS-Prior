{
 "cells": [
  {
   "cell_type": "code",
   "execution_count": 1,
   "id": "9331914d",
   "metadata": {},
   "outputs": [],
   "source": [
    "import cffi\n",
    "import numpy as np\n",
    "import ufl\n",
    "import scipy as sp\n",
    "from dolfinx import fem, jit, mesh\n",
    "from dolfinx.fem import petsc\n",
    "from mpi4py import MPI\n",
    "from petsc4py import PETSc"
   ]
  },
  {
   "cell_type": "code",
   "execution_count": 2,
   "id": "1d16b1b6",
   "metadata": {},
   "outputs": [],
   "source": [
    "delta = 1.0\n",
    "gamma = 0.5\n",
    "nx, ny = 100, 100\n",
    "cell_index = 0"
   ]
  },
  {
   "cell_type": "code",
   "execution_count": 3,
   "id": "8ad943bf",
   "metadata": {},
   "outputs": [],
   "source": [
    "domain = mesh.create_rectangle(\n",
    "    MPI.COMM_WORLD,\n",
    "    [np.array([0, 0]), np.array([1, 1])],\n",
    "    [nx, ny],\n",
    "    mesh.CellType.triangle,\n",
    ")"
   ]
  },
  {
   "cell_type": "code",
   "execution_count": 4,
   "id": "68c770ad",
   "metadata": {},
   "outputs": [],
   "source": [
    "function_space = fem.functionspace(domain, (\"Lagrange\", 1))\n",
    "trial_function = ufl.TrialFunction(function_space)\n",
    "test_function = ufl.TestFunction(function_space)\n",
    "\n",
    "mass_matrix_term = ufl.inner(trial_function, test_function) * ufl.dx\n",
    "stiffness_matrix_term = ufl.inner(ufl.grad(trial_function), ufl.grad(test_function)) * ufl.dx\n",
    "spde_matrix_term = delta * mass_matrix_term + gamma * stiffness_matrix_term\n",
    "\n",
    "mass_matrix = petsc.assemble_matrix(fem.form(mass_matrix_term))\n",
    "stiffness_matrix = petsc.assemble_matrix(fem.form(stiffness_matrix_term))\n",
    "mass_matrix.assemble()\n",
    "stiffness_matrix.assemble()"
   ]
  },
  {
   "cell_type": "code",
   "execution_count": 5,
   "id": "0b1b7503",
   "metadata": {},
   "outputs": [],
   "source": [
    "dense_mass_matrix_automatic = mass_matrix.convert(\"dense\")\n",
    "dense_mass_array_automatic = dense_mass_matrix_automatic.getDenseArray()"
   ]
  },
  {
   "cell_type": "code",
   "execution_count": 6,
   "id": "b2d991da",
   "metadata": {},
   "outputs": [],
   "source": [
    "vertex_coordinates = domain.geometry.x\n",
    "cell_vertex_map = domain.geometry.dofmap\n",
    "cell_dof_map = function_space.dofmap\n",
    "index_map = cell_dof_map.index_map\n",
    "local_cell_range = domain.topology.index_map(domain.topology.dim).local_range\n",
    "num_local_cells = local_cell_range[1] - local_cell_range[0]\n",
    "cell_matrices = []\n",
    "global_dofs = []\n",
    "\n",
    "mass_matrix_compiled, *_ = jit.ffcx_jit(\n",
    "    domain.comm,\n",
    "    mass_matrix_term,\n",
    "    form_compiler_options={\"scalar_type\": PETSc.ScalarType},\n",
    ")\n",
    "compiled_kernel = getattr(\n",
    "    mass_matrix_compiled.form_integrals[0],\n",
    "    f\"tabulate_tensor_{np.dtype(PETSc.ScalarType).name}\",\n",
    ")\n",
    "\n",
    "ffi = cffi.FFI()"
   ]
  },
  {
   "cell_type": "code",
   "execution_count": 7,
   "id": "033eb2da",
   "metadata": {},
   "outputs": [
    {
     "data": {
      "text/plain": [
       "<petsc4py.PETSc.Mat at 0x7f9b3ff92d40>"
      ]
     },
     "execution_count": 7,
     "metadata": {},
     "output_type": "execute_result"
    }
   ],
   "source": [
    "num_global_dofs = index_map.size_global\n",
    "manual_mass_matrix = PETSc.Mat().createAIJ([num_global_dofs, num_global_dofs], \n",
    "                              comm=domain.comm)\n",
    "manual_mass_matrix.setUp()"
   ]
  },
  {
   "cell_type": "code",
   "execution_count": 13,
   "id": "4b2a8d53",
   "metadata": {},
   "outputs": [],
   "source": [
    "for cell_index in range(num_local_cells):\n",
    "    local_cell_dofs = cell_dof_map.cell_dofs(cell_index)\n",
    "    global_cell_dofs = index_map.local_to_global(local_cell_dofs).astype(PETSc.IntType)\n",
    "    num_cell_dofs = local_cell_dofs.size\n",
    "    cell_vertices = cell_vertex_map[cell_index]\n",
    "    cell_vertex_coordinates = vertex_coordinates[cell_vertices]\n",
    "    cell_matrix = np.zeros((num_cell_dofs, num_cell_dofs), dtype=PETSc.ScalarType)\n",
    "    compiled_kernel(\n",
    "        ffi.from_buffer(cell_matrix),  # A - output matrix\n",
    "        ffi.NULL,  # w - coefficient values (none for this form)\n",
    "        ffi.NULL,  # c - constants (none for this form)\n",
    "        ffi.from_buffer(cell_vertex_coordinates),  # coordinate_dofs\n",
    "        ffi.NULL,  # entity_local_index (cell integral)\n",
    "        ffi.NULL,  # cell_orientation\n",
    "    )\n",
    "    global_dofs.append(global_cell_dofs)\n",
    "    cell_matrices.append(np.linalg.cholesky(cell_matrix))\n",
    "    manual_mass_matrix.setValues(\n",
    "        global_cell_dofs, global_cell_dofs, cell_matrix, addv=PETSc.InsertMode.ADD_VALUES\n",
    "    )"
   ]
  },
  {
   "cell_type": "code",
   "execution_count": 10,
   "id": "02ed9701",
   "metadata": {},
   "outputs": [],
   "source": [
    "dense_mass_matrix_manual = mass_matrix.convert(\"dense\")\n",
    "dense_mass_array_manual = dense_mass_matrix_manual.getDenseArray()"
   ]
  }
 ],
 "metadata": {
  "kernelspec": {
   "display_name": "fenicsx",
   "language": "python",
   "name": "python3"
  },
  "language_info": {
   "codemirror_mode": {
    "name": "ipython",
    "version": 3
   },
   "file_extension": ".py",
   "mimetype": "text/x-python",
   "name": "python",
   "nbconvert_exporter": "python",
   "pygments_lexer": "ipython3",
   "version": "3.13.3"
  }
 },
 "nbformat": 4,
 "nbformat_minor": 5
}
