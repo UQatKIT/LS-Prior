{
 "cells": [
  {
   "cell_type": "code",
   "execution_count": null,
   "id": "8dd48fb3",
   "metadata": {},
   "outputs": [],
   "source": [
    "import dolfinx as dlx\n",
    "import numpy as np\n",
    "from mpi4py import MPI\n",
    "from petsc4py import PETSc\n",
    "\n",
    "from ls_prior import components, fem, prior"
   ]
  },
  {
   "cell_type": "code",
   "execution_count": null,
   "id": "843e778b",
   "metadata": {},
   "outputs": [],
   "source": [
    "kappa, tau = 1.0, 1.0\n",
    "nx, ny = 2, 2\n",
    "mpi_communicator = MPI.COMM_WORLD\n",
    "\n",
    "cg_solver_settings = components.InverseMatrixSolverSettings(\n",
    "    solver_type=PETSc.KSP.Type.CG,\n",
    "    preconditioner_type=PETSc.PC.Type.JACOBI,\n",
    "    relative_tolerance=1e-6,\n",
    "    absolute_tolerance=1e-8,\n",
    "    max_num_iterations=10000,\n",
    ")\n",
    "\n",
    "amg_solver_settings = components.InverseMatrixSolverSettings(\n",
    "    solver_type=PETSc.KSP.Type.PREONLY,\n",
    "    preconditioner_type=PETSc.PC.Type.GAMG,\n",
    "    relative_tolerance=1e-6,\n",
    "    absolute_tolerance=1e-8,\n",
    "    max_num_iterations=10000,\n",
    ")"
   ]
  },
  {
   "cell_type": "code",
   "execution_count": null,
   "id": "18faf8a2",
   "metadata": {},
   "outputs": [],
   "source": [
    "mesh = dlx.mesh.create_rectangle(\n",
    "    mpi_communicator,\n",
    "    [np.array([0, 0]), np.array([1, 1])],\n",
    "    [nx, ny],\n",
    "    dlx.mesh.CellType.triangle,\n",
    ")"
   ]
  },
  {
   "cell_type": "code",
   "execution_count": null,
   "id": "cc84a4e1",
   "metadata": {},
   "outputs": [],
   "source": [
    "fem_handler = fem.FEMHandler(mesh, (\"CG\", 1))\n",
    "mass_matrix_form, spde_matrix_form = fem_handler.generate_forms(kappa, tau)\n",
    "mass_matrix = fem_handler.assemble_matrix(mass_matrix_form)\n",
    "spde_matrix = fem_handler.assemble_matrix(spde_matrix_form)\n",
    "mass_matrix_factorization = fem.FEMMatrixBlockFactorization(\n",
    "    mesh, fem_handler.function_space, mass_matrix_form\n",
    ")\n",
    "mass_matrix_factor = mass_matrix_factorization.assemble()"
   ]
  },
  {
   "cell_type": "code",
   "execution_count": null,
   "id": "aa8e2775",
   "metadata": {},
   "outputs": [],
   "source": [
    "mass_matrix_inverse = components.InverseMatrixSolver(\n",
    "    cg_solver_settings, mass_matrix, mpi_communicator\n",
    ")\n",
    "spde_matrix_inverse = components.InverseMatrixSolver(\n",
    "    amg_solver_settings, spde_matrix, mpi_communicator\n",
    ")"
   ]
  },
  {
   "cell_type": "code",
   "execution_count": null,
   "id": "aa998f43",
   "metadata": {},
   "outputs": [],
   "source": [
    "precision_operator = components.BilaplacianPrecision(spde_matrix, mass_matrix_inverse)\n",
    "covariance_operator = components.BilaplacianCovariance(mass_matrix, spde_matrix_inverse)\n",
    "sampling_factor = components.BilaplacianCovarianceFactor(mass_matrix_factor, spde_matrix_inverse)"
   ]
  },
  {
   "cell_type": "code",
   "execution_count": null,
   "id": "a775e404",
   "metadata": {},
   "outputs": [],
   "source": [
    "num_dofs = fem_handler.function_space.dofmap.index_map.size_local\n",
    "mean_vector = np.zeros(num_dofs, dtype=np.float64)\n",
    "bilaplace_prior = prior.Prior(\n",
    "    mean_vector,\n",
    "    precision_operator,\n",
    "    covariance_operator,\n",
    "    sampling_factor,\n",
    "    dimension=num_dofs,\n",
    "    seed=0,\n",
    ")"
   ]
  },
  {
   "cell_type": "code",
   "execution_count": null,
   "id": "6e09aa08",
   "metadata": {},
   "outputs": [],
   "source": [
    "test_vector = np.random.rand(bilaplace_prior.dimension)\n",
    "cost = bilaplace_prior.evaluate_cost(test_vector)\n",
    "grad = bilaplace_prior.evaluate_gradient(test_vector)\n",
    "hvp = bilaplace_prior.evaluate_hessian_vector_product(test_vector)\n",
    "sample = bilaplace_prior.generate_sample()"
   ]
  }
 ],
 "metadata": {
  "kernelspec": {
   "display_name": "Python 3",
   "language": "python",
   "name": "python3"
  },
  "language_info": {
   "codemirror_mode": {
    "name": "ipython",
    "version": 3
   },
   "file_extension": ".py",
   "mimetype": "text/x-python",
   "name": "python",
   "nbconvert_exporter": "python",
   "pygments_lexer": "ipython3",
   "version": "3.13.5"
  }
 },
 "nbformat": 4,
 "nbformat_minor": 5
}
