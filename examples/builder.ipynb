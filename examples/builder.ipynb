{
 "cells": [
  {
   "cell_type": "code",
   "execution_count": null,
   "id": "d7882b08",
   "metadata": {},
   "outputs": [],
   "source": [
    "import dolfinx as dlx\n",
    "import numpy as np\n",
    "from mpi4py import MPI\n",
    "\n",
    "from ls_prior import builder"
   ]
  },
  {
   "cell_type": "code",
   "execution_count": null,
   "id": "0e2bc11d",
   "metadata": {},
   "outputs": [],
   "source": [
    "mpi_communicator = MPI.COMM_WORLD\n",
    "mesh = dlx.mesh.create_rectangle(\n",
    "    mpi_communicator,\n",
    "    [np.array([0, 0]), np.array([1, 1])],\n",
    "    [2, 2],\n",
    "    dlx.mesh.CellType.triangle,\n",
    ")\n",
    "mean_vector = np.zeros(9)"
   ]
  },
  {
   "cell_type": "code",
   "execution_count": null,
   "id": "25264fa3",
   "metadata": {},
   "outputs": [],
   "source": [
    "prior_settings = builder.BilaplacianPriorSettings(\n",
    "    mesh=mesh,\n",
    "    mean_vector=mean_vector,\n",
    "    kappa=1.0,\n",
    "    tau=1.0,\n",
    ")\n",
    "prior_builder = builder.BilaplacianPriorBuilder(prior_settings)\n",
    "bilaplace_prior = prior_builder.build()"
   ]
  },
  {
   "cell_type": "code",
   "execution_count": null,
   "id": "45991715",
   "metadata": {},
   "outputs": [],
   "source": [
    "test_vector_1 = np.ones_like(mean_vector)\n",
    "test_vector_2 = 2*np.ones_like(mean_vector)\n",
    "test_vector_3 = 3*np.ones_like(mean_vector)\n",
    "cost = bilaplace_prior.evaluate_cost(test_vector_1)\n",
    "grad = bilaplace_prior.evaluate_gradient(test_vector_2)\n",
    "hvp = bilaplace_prior.evaluate_hessian_vector_product(test_vector_3)\n",
    "sample = bilaplace_prior.generate_sample()\n",
    "print(cost)\n",
    "print(grad)\n",
    "print(hvp)\n",
    "print(sample)"
   ]
  }
 ],
 "metadata": {
  "kernelspec": {
   "display_name": "all",
   "language": "python",
   "name": "python3"
  },
  "language_info": {
   "codemirror_mode": {
    "name": "ipython",
    "version": 3
   },
   "file_extension": ".py",
   "mimetype": "text/x-python",
   "name": "python",
   "nbconvert_exporter": "python",
   "pygments_lexer": "ipython3",
   "version": "3.13.5"
  }
 },
 "nbformat": 4,
 "nbformat_minor": 5
}
