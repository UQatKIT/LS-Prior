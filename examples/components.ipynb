{
 "cells": [
  {
   "cell_type": "code",
   "execution_count": null,
   "id": "8dd48fb3",
   "metadata": {},
   "outputs": [],
   "source": [
    "import dolfinx as dlx\n",
    "import numpy as np\n",
    "from dolfinx.fem import petsc\n",
    "from mpi4py import MPI\n",
    "from petsc4py import PETSc\n",
    "\n",
    "from ls_prior import components, fem, prior"
   ]
  },
  {
   "cell_type": "code",
   "execution_count": null,
   "id": "3852588c",
   "metadata": {},
   "outputs": [],
   "source": [
    "mesh = dlx.mesh.create_rectangle(\n",
    "    MPI.COMM_WORLD,\n",
    "    [np.array([0, 0]), np.array([1, 1])],\n",
    "    [2, 2],\n",
    "    dlx.mesh.CellType.triangle,\n",
    ")\n",
    "\n",
    "kappa, tau = 1.0, 1.0\n",
    "\n",
    "cg_solver_settings = components.InverseMatrixSolverSettings(\n",
    "    solver_type=PETSc.KSP.Type.CG,\n",
    "    preconditioner_type=PETSc.PC.Type.JACOBI,\n",
    "    relative_tolerance=1e-6,\n",
    "    absolute_tolerance=1e-8,\n",
    "    max_num_iterations=10000,\n",
    ")\n",
    "\n",
    "amg_solver_settings = components.InverseMatrixSolverSettings(\n",
    "    solver_type=PETSc.KSP.Type.CG,\n",
    "    preconditioner_type=PETSc.PC.Type.GAMG,\n",
    "    relative_tolerance=1e-6,\n",
    "    absolute_tolerance=1e-8,\n",
    "    max_num_iterations=10000,\n",
    ")"
   ]
  },
  {
   "cell_type": "code",
   "execution_count": null,
   "id": "cc84a4e1",
   "metadata": {},
   "outputs": [],
   "source": [
    "function_space = dlx.fem.functionspace(mesh, (\"Lagrange\", 2))\n",
    "mass_matrix_form, spde_matrix_form = fem.generate_forms(function_space, kappa, tau)\n",
    "mass_matrix = petsc.assemble_matrix(dlx.fem.form(mass_matrix_form))\n",
    "spde_matrix = petsc.assemble_matrix(dlx.fem.form(spde_matrix_form))\n",
    "mass_matrix.assemble()\n",
    "spde_matrix.assemble()\n",
    "mass_matrix_factorization = fem.FEMMatrixFactorizationAssembler(\n",
    "    mesh, function_space, mass_matrix_form\n",
    ")\n",
    "block_diagonal_matrix, dof_map_matrix = mass_matrix_factorization.assemble()\n",
    "dof_map_matrix.transpose()\n",
    "converter = fem.FEMConverter(function_space)"
   ]
  },
  {
   "cell_type": "code",
   "execution_count": 41,
   "id": "10047fb9",
   "metadata": {},
   "outputs": [
    {
     "data": {
      "text/plain": [
       "'P'"
      ]
     },
     "execution_count": 41,
     "metadata": {},
     "output_type": "execute_result"
    }
   ],
   "source": [
    "elem = function_space.ufl_element()\n",
    "elem.family_name"
   ]
  },
  {
   "cell_type": "code",
   "execution_count": null,
   "id": "aa8e2775",
   "metadata": {},
   "outputs": [],
   "source": [
    "mass_matrix_component = components.Matrix(mass_matrix)\n",
    "spde_matrix_component = components.Matrix(spde_matrix)\n",
    "block_diagonal_matrix_component = components.Matrix(block_diagonal_matrix)\n",
    "dof_map_matrix_component = components.Matrix(dof_map_matrix)\n",
    "mass_matrix_inverse_component = components.InverseMatrixSolver(cg_solver_settings, mass_matrix)\n",
    "spde_matrix_inverse_component = components.InverseMatrixSolver(amg_solver_settings, spde_matrix)"
   ]
  },
  {
   "cell_type": "code",
   "execution_count": null,
   "id": "e581ede8",
   "metadata": {},
   "outputs": [],
   "source": [
    "precision_operator = components.PETScComponentComposition(\n",
    "    spde_matrix_component, mass_matrix_inverse_component, spde_matrix_component\n",
    ")\n",
    "covariance_operator = components.PETScComponentComposition(\n",
    "    spde_matrix_inverse_component, mass_matrix_component, spde_matrix_inverse_component\n",
    ")\n",
    "sampling_factor = components.PETScComponentComposition(\n",
    "    block_diagonal_matrix_component, dof_map_matrix_component, spde_matrix_inverse_component\n",
    ")"
   ]
  },
  {
   "cell_type": "code",
   "execution_count": null,
   "id": "0e8c158c",
   "metadata": {},
   "outputs": [],
   "source": [
    "precision_operator_interface = components.InterfaceComponent(precision_operator)\n",
    "covariance_operator_interface = components.InterfaceComponent(covariance_operator)\n",
    "sampling_factor_interface = components.InterfaceComponent(sampling_factor)"
   ]
  },
  {
   "cell_type": "code",
   "execution_count": null,
   "id": "a775e404",
   "metadata": {},
   "outputs": [],
   "source": [
    "mean_vector = np.zeros(mesh.geometry.x.shape[0], dtype=np.float64)\n",
    "bilaplace_prior = prior.Prior(\n",
    "    mean_vector,\n",
    "    precision_operator_interface,\n",
    "    covariance_operator_interface,\n",
    "    sampling_factor_interface,\n",
    "    converter,\n",
    "    seed=0,\n",
    ")"
   ]
  },
  {
   "cell_type": "code",
   "execution_count": null,
   "id": "6e09aa08",
   "metadata": {},
   "outputs": [],
   "source": [
    "rng = np.random.default_rng(0)\n",
    "\n",
    "test_vector_1 = rng.random(mean_vector.shape)\n",
    "test_vector_2 = 2 * rng.random(mean_vector.shape)\n",
    "test_vector_3 = 3 * rng.random(mean_vector.shape)\n",
    "\n",
    "cost = bilaplace_prior.evaluate_cost(test_vector_1)\n",
    "grad = bilaplace_prior.evaluate_gradient(test_vector_2)\n",
    "hvp = bilaplace_prior.evaluate_hessian_vector_product(test_vector_3)\n",
    "sample = bilaplace_prior.generate_sample()\n",
    "\n",
    "print(cost)\n",
    "print(grad)\n",
    "print(hvp)\n",
    "print(sample)"
   ]
  }
 ],
 "metadata": {
  "kernelspec": {
   "display_name": "all",
   "language": "python",
   "name": "python3"
  },
  "language_info": {
   "codemirror_mode": {
    "name": "ipython",
    "version": 3
   },
   "file_extension": ".py",
   "mimetype": "text/x-python",
   "name": "python",
   "nbconvert_exporter": "python",
   "pygments_lexer": "ipython3",
   "version": "3.13.5"
  }
 },
 "nbformat": 4,
 "nbformat_minor": 5
}
