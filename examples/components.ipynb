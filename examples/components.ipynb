{
 "cells": [
  {
   "cell_type": "code",
   "execution_count": 1,
   "id": "8dd48fb3",
   "metadata": {},
   "outputs": [],
   "source": [
    "import dolfinx as dlx\n",
    "import numpy as np\n",
    "from dolfinx.fem import petsc\n",
    "from mpi4py import MPI\n",
    "from petsc4py import PETSc\n",
    "\n",
    "from ls_prior import components, fem, prior"
   ]
  },
  {
   "cell_type": "code",
   "execution_count": 2,
   "id": "843e778b",
   "metadata": {},
   "outputs": [],
   "source": [
    "kappa, tau = 1.0, 1.0\n",
    "nx, ny = 2, 2\n",
    "mpi_communicator = MPI.COMM_WORLD\n",
    "\n",
    "cg_solver_settings = components.InverseMatrixSolverSettings(\n",
    "    solver_type=PETSc.KSP.Type.CG,\n",
    "    preconditioner_type=PETSc.PC.Type.JACOBI,\n",
    "    relative_tolerance=1e-6,\n",
    "    absolute_tolerance=1e-8,\n",
    "    max_num_iterations=10000,\n",
    ")\n",
    "\n",
    "amg_solver_settings = components.InverseMatrixSolverSettings(\n",
    "    solver_type=PETSc.KSP.Type.PREONLY,\n",
    "    preconditioner_type=PETSc.PC.Type.GAMG,\n",
    "    relative_tolerance=1e-6,\n",
    "    absolute_tolerance=1e-8,\n",
    "    max_num_iterations=10000,\n",
    ")"
   ]
  },
  {
   "cell_type": "code",
   "execution_count": 3,
   "id": "18faf8a2",
   "metadata": {},
   "outputs": [],
   "source": [
    "mesh = dlx.mesh.create_rectangle(\n",
    "    mpi_communicator,\n",
    "    [np.array([0, 0]), np.array([1, 1])],\n",
    "    [nx, ny],\n",
    "    dlx.mesh.CellType.triangle,\n",
    ")"
   ]
  },
  {
   "cell_type": "code",
   "execution_count": 4,
   "id": "cc84a4e1",
   "metadata": {},
   "outputs": [],
   "source": [
    "function_space = dlx.fem.functionspace(mesh, (\"Lagrange\", 1))\n",
    "mass_matrix_form, spde_matrix_form = fem.generate_forms(function_space, kappa, tau)\n",
    "mass_matrix = petsc.assemble_matrix(dlx.fem.form(mass_matrix_form))\n",
    "spde_matrix = petsc.assemble_matrix(dlx.fem.form(spde_matrix_form))\n",
    "mass_matrix.assemble()\n",
    "spde_matrix.assemble()\n",
    "mass_matrix_factorization = fem.FEMMatrixBlockFactorization(mesh, function_space, mass_matrix_form)\n",
    "mass_matrix_factor = mass_matrix_factorization.assemble()\n",
    "converter = fem.FEMConverter(function_space)"
   ]
  },
  {
   "cell_type": "code",
   "execution_count": 5,
   "id": "aa8e2775",
   "metadata": {},
   "outputs": [],
   "source": [
    "mass_matrix_inverse = components.InverseMatrixSolver(\n",
    "    cg_solver_settings, mass_matrix, mpi_communicator\n",
    ")\n",
    "spde_matrix_inverse = components.InverseMatrixSolver(\n",
    "    amg_solver_settings, spde_matrix, mpi_communicator\n",
    ")"
   ]
  },
  {
   "cell_type": "code",
   "execution_count": 6,
   "id": "aa998f43",
   "metadata": {},
   "outputs": [],
   "source": [
    "precision_operator = components.BilaplacianPrecision(spde_matrix, mass_matrix_inverse)\n",
    "covariance_operator = components.BilaplacianCovariance(mass_matrix, spde_matrix_inverse)\n",
    "sampling_factor = components.BilaplacianCovarianceFactor(mass_matrix_factor, spde_matrix_inverse)"
   ]
  },
  {
   "cell_type": "code",
   "execution_count": 7,
   "id": "0e8c158c",
   "metadata": {},
   "outputs": [],
   "source": [
    "precision_operator_interface = components.InterfaceComponent(precision_operator, converter)\n",
    "covariance_operator_interface = components.InterfaceComponent(covariance_operator, converter)\n",
    "sampling_factor_interface = components.InterfaceComponent(\n",
    "    sampling_factor, converter, convert_input_from_mesh=False, convert_output_to_mesh=True\n",
    ")"
   ]
  },
  {
   "cell_type": "code",
   "execution_count": 8,
   "id": "a775e404",
   "metadata": {},
   "outputs": [],
   "source": [
    "mean_vector = np.zeros(mesh.geometry.x.shape[0], dtype=np.float64)\n",
    "bilaplace_prior = prior.Prior(\n",
    "    mean_vector,\n",
    "    precision_operator_interface,\n",
    "    covariance_operator_interface,\n",
    "    sampling_factor_interface,\n",
    "    seed=0,\n",
    ")"
   ]
  },
  {
   "cell_type": "code",
   "execution_count": 9,
   "id": "6e09aa08",
   "metadata": {},
   "outputs": [
    {
     "name": "stdout",
     "output_type": "stream",
     "text": [
      "0.4999999999999977\n",
      "[0.25       0.08333333 0.25       0.5        0.16666667 0.16666667\n",
      " 0.25       0.25       0.08333333]\n",
      "[0.375 0.125 0.375 0.75  0.25  0.25  0.375 0.375 0.125]\n",
      "[-0.3997324  -0.46210551 -0.58363611 -0.55901791 -0.52177595 -0.70408941\n",
      " -0.48298646 -0.5273036  -0.45923362]\n"
     ]
    }
   ],
   "source": [
    "test_vector_1 = np.ones_like(mean_vector)\n",
    "test_vector_2 = 2*np.ones_like(mean_vector)\n",
    "test_vector_3 = 3*np.ones_like(mean_vector)\n",
    "cost = bilaplace_prior.evaluate_cost(test_vector_1)\n",
    "grad = bilaplace_prior.evaluate_gradient(test_vector_2)\n",
    "hvp = bilaplace_prior.evaluate_hessian_vector_product(test_vector_3)\n",
    "sample = bilaplace_prior.generate_sample()\n",
    "print(cost)\n",
    "print(grad)\n",
    "print(hvp)\n",
    "print(sample)"
   ]
  }
 ],
 "metadata": {
  "kernelspec": {
   "display_name": "all",
   "language": "python",
   "name": "python3"
  },
  "language_info": {
   "codemirror_mode": {
    "name": "ipython",
    "version": 3
   },
   "file_extension": ".py",
   "mimetype": "text/x-python",
   "name": "python",
   "nbconvert_exporter": "python",
   "pygments_lexer": "ipython3",
   "version": "3.13.5"
  }
 },
 "nbformat": 4,
 "nbformat_minor": 5
}
